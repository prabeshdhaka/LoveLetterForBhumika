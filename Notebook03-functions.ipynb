{
  "cells": [
    {
      "cell_type": "markdown",
      "metadata": {
        "id": "dE5JeErIqTp3"
      },
      "source": [
        "<a target=\"_blank\" href=\"https://colab.research.google.com/github/WSU-CS1410-AA/cs1410-notebooks/blob/main/Notebook03-functions.ipynb\">\n",
        "  <img src=\"https://colab.research.google.com/assets/colab-badge.svg\" alt=\"Open In Colab\"/>\n",
        "</a>"
      ]
    },
    {
      "cell_type": "markdown",
      "metadata": {
        "id": "DeMt91O-qTp8"
      },
      "source": [
        "# Functions\n",
        "\n",
        "Functions are the bread and butter of programming. A function is a named group of statements that achieves a certain task and/or produces a specific outcome. Here is the **definition** of a function that prints a given `n` number of stars in the same line."
      ]
    },
    {
      "cell_type": "code",
      "execution_count": 2,
      "metadata": {
        "id": "nnhmiphQqTp8",
        "outputId": "ee22e985-db47-42d6-cece-f21cd5595fa8",
        "colab": {
          "base_uri": "https://localhost:8080/"
        }
      },
      "outputs": [
        {
          "output_type": "stream",
          "name": "stdout",
          "text": [
            "Writing ex01.cpp\n"
          ]
        }
      ],
      "source": [
        "%%writefile ex01.cpp\n",
        "\n",
        "#include <iostream>\n",
        "using namespace std;\n",
        "\n",
        "void printStars(int n) {\n",
        "    for(int i = 0; i < n; i++) {\n",
        "        cout << '*';\n",
        "    }\n",
        "    cout << endl;\n",
        "}\n",
        "\n",
        "int main() {\n",
        "    printStars(69);\n",
        "    printStars(37);\n",
        "    printStars(5);\n",
        "    printStars(45);\n",
        "\n",
        "    return 0;\n",
        "}"
      ]
    },
    {
      "cell_type": "markdown",
      "metadata": {
        "id": "Eovtu_3wqTp9"
      },
      "source": [
        "Now that we have this function, we can use it every time we want to print stars. For example, the main function above calls the `printStars()` four times.\n",
        "\n",
        "Let's run this program and check its output."
      ]
    },
    {
      "cell_type": "code",
      "execution_count": 3,
      "metadata": {
        "id": "amEauvqxqTp9",
        "outputId": "4582a365-84b5-442b-ae2d-fe189c5e35f0",
        "colab": {
          "base_uri": "https://localhost:8080/"
        }
      },
      "outputs": [
        {
          "output_type": "stream",
          "name": "stdout",
          "text": [
            "*********************************************************************\n",
            "*************************************\n",
            "*****\n",
            "*********************************************\n"
          ]
        }
      ],
      "source": [
        "!g++ -std=c++17 ex01.cpp -o ex01\n",
        "!./ex01"
      ]
    },
    {
      "cell_type": "markdown",
      "metadata": {
        "id": "KsikbNm_qTp-"
      },
      "source": [
        "## Function prototypes\n",
        "C++ distinguishes **function definitions** such as the above definition of the `printStars` function from **function prototypes**. A **function prototype** contains only:\n",
        "* the return type,\n",
        "* the name,\n",
        "* the parameter list, and\n",
        "* semicolon\n",
        "\n",
        "Function prototypes typically reside in header files (.h files); they introduce functions to the compiler and allow us to call functions before we define them.\n",
        "\n",
        "Here is the **prototype** of the **function definition** above.\n",
        "\n",
        "```cpp\n",
        "void printStars(int n);\n",
        "```\n",
        "\n",
        "And here are two more example function prototypes:\n",
        "\n",
        "```cpp\n",
        "// Prototypes\n",
        "bool isOdd(int x);\n",
        "bool isEven(int);\n",
        "```\n",
        "\n",
        "Notice how inside the parameter list (between the parentheses), only the parameter types are required; the names of the parameters are optional."
      ]
    },
    {
      "cell_type": "markdown",
      "metadata": {
        "id": "7dKdAqc0qTp-"
      },
      "source": [
        "\n",
        "## Function definitions\n",
        "A function definition is a full specification of the function. Here are the definitions of the above prototypes.\n",
        "\n",
        "```cpp\n",
        "bool isOdd(int x){\n",
        "    return x % 2 != 0;\n",
        "}\n",
        "\n",
        "bool isEven(int x){\n",
        "    return !isOdd(x);\n",
        "}\n",
        "```"
      ]
    },
    {
      "cell_type": "markdown",
      "metadata": {
        "id": "ynakhpgIqTp_"
      },
      "source": [
        "Take, for example, the above definition of the `isOdd` function. This definition consists of the following parts:\n",
        "* The type of the value returned by the function:\n",
        "\n",
        " `bool`\n",
        "\n",
        "* The name of the function:\n",
        "\n",
        " `isOdd`\n",
        "\n",
        "* The list of the function's expected parameters placed between `(` and `)`:\n",
        "\n",
        " `(int x)`\n",
        "\n",
        " Keep in mind that in functions definitions, both parameter types and names are required.\n",
        "\n",
        "* The body of the function placed between `{` and `}`:\n",
        "\n",
        " ```\n",
        " {\n",
        "    return x % 2 != 0;\n",
        " }\n",
        " ```\n",
        "\n",
        " Always remember that **a function that is supposed to return a value must contain a `return` statement**. In other words, if the function's return type is not `void`, its body must have at least a single return statement.\n",
        "\n",
        "## Calling functions\n",
        "Functions have to be called. A function that is never called is useless. We call functions by using their names followed by zero or more comma-separated argument list within parentheses `()`. Doing so transfers control from the calling program to the function itself. This control will return back to the calling program when the end of the function is reached or when a `return` statement is encountered. Here are example calls to the functions we defined earlier. These functions are being called to figure out the type of a given number. For example,\n",
        "\n",
        "```cpp\n",
        "isOdd(13);\n",
        "```"
      ]
    },
    {
      "cell_type": "markdown",
      "metadata": {
        "id": "m332YP1dqTp_"
      },
      "source": [
        "## CODING CHALLENGE 1\n",
        "\n",
        "Write the **function prototypes** for the following two functions: one with parameter types only and one with both parameter types and names.\n",
        "\n",
        "``` C++\n",
        "bool isLessThan(double a, double b) {\n",
        "    return a < b;\n",
        "}\n",
        "\n",
        "float maximumOfThree(float a, float b, float c) {\n",
        "    if(a > b){\n",
        "        if(a > c){\n",
        "            return a;\n",
        "        } else {\n",
        "            return c;\n",
        "        }\n",
        "    } else {\n",
        "        if (b > c) {\n",
        "            return b;\n",
        "        } else {\n",
        "            return c;\n",
        "        }\n",
        "    }\n",
        "    \n",
        "}\n",
        "```\n",
        "\n",
        "Call these functions in the main function below and display their returned values in the program below."
      ]
    },
    {
      "cell_type": "code",
      "execution_count": 9,
      "metadata": {
        "id": "OvxaynJhqTp_",
        "outputId": "b66e8655-6f9b-419c-e3dd-1f097e170dd2",
        "colab": {
          "base_uri": "https://localhost:8080/"
        }
      },
      "outputs": [
        {
          "output_type": "stream",
          "name": "stdout",
          "text": [
            "Overwriting ch01.cpp\n"
          ]
        }
      ],
      "source": [
        "%%writefile ch01.cpp\n",
        "\n",
        "#include <iostream>\n",
        "using namespace std;\n",
        "\n",
        "\n",
        "bool isLessThan(double, double);\n",
        "float maximumOfThree(float, float, float);\n",
        "\n",
        "int main() {\n",
        "\n",
        "    bool result1 = isLessThan(5.4, 3.7);\n",
        "    cout << \"isLessThan(5.4, 3.7) = \" << result1 << endl;\n",
        "\n",
        "    float result2 = maximumOfThree(3.4f, 6.7f, 2.1f);\n",
        "    cout << \"maximumOfThree(3.4, 6.7, 2.1) = \" << result2 << endl;\n",
        "\n",
        "    return 0;\n",
        "}\n",
        "\n",
        "// Function definitions\n",
        "bool isLessThan(double a, double b) {\n",
        "    return a < b;\n",
        "}\n",
        "\n",
        "float maximumOfThree(float a, float b, float c) {\n",
        "    if(a > b) {\n",
        "        if(a > c) {\n",
        "            return a;\n",
        "        } else {\n",
        "            return c;\n",
        "        }\n",
        "    } else {\n",
        "        if (b > c) {\n",
        "            return b;\n",
        "        } else {\n",
        "            return c;\n",
        "        }\n",
        "    }\n",
        "}"
      ]
    },
    {
      "cell_type": "code",
      "source": [
        "!g++ -std=c++17 ch01.cpp -o ch01\n",
        "!./ch01"
      ],
      "metadata": {
        "id": "uY4mQXect0k2",
        "colab": {
          "base_uri": "https://localhost:8080/"
        },
        "outputId": "f40b2b1d-2835-4e06-bf16-b05aa873c6da"
      },
      "execution_count": 10,
      "outputs": [
        {
          "output_type": "stream",
          "name": "stdout",
          "text": [
            "isLessThan(5.4, 3.7) = 0\n",
            "maximumOfThree(3.4, 6.7, 2.1) = 6.7\n"
          ]
        }
      ]
    },
    {
      "cell_type": "markdown",
      "source": [
        "## Another example\n",
        "Here is a example program displaying a table of numbers and whether they are odd or even:"
      ],
      "metadata": {
        "id": "I2ZypGUUvXUf"
      }
    },
    {
      "cell_type": "code",
      "execution_count": 11,
      "metadata": {
        "id": "a_m23UI1qTqA",
        "outputId": "f7389869-e63a-4219-c5d4-2052e35167ff",
        "colab": {
          "base_uri": "https://localhost:8080/"
        }
      },
      "outputs": [
        {
          "output_type": "stream",
          "name": "stdout",
          "text": [
            "Writing ex02.cpp\n"
          ]
        }
      ],
      "source": [
        "%%writefile ex02.cpp\n",
        "\n",
        "#include <iostream>\n",
        "#include <iomanip>\n",
        "\n",
        "using namespace std;\n",
        "\n",
        "// Prototypes\n",
        "bool isOdd(int);\n",
        "bool isEven(int);\n",
        "\n",
        "// Definitions\n",
        "bool isOdd(int x){\n",
        "  return x % 2 == 1;\n",
        "}\n",
        "\n",
        "bool isEven(int x){\n",
        "  return !isOdd(x);\n",
        "}\n",
        "\n",
        "int main(){\n",
        "  cout << setw(8) << \"Number\" << setw(6) << \"Odd?\"    << setw(7) << \"Even?\"    << endl;\n",
        "  cout << setw(8) << 97       << setw(6) << isOdd(97) << setw(7) << isEven(97) << endl;\n",
        "  cout << setw(8) << 34       << setw(6) << isOdd(34) << setw(7) << isEven(34) << endl;\n",
        "\n",
        "  return 0;\n",
        "}"
      ]
    },
    {
      "cell_type": "markdown",
      "source": [
        "Notice this `isEven()` is defined as the negation (opposite) of `isOdd()`."
      ],
      "metadata": {
        "id": "KVdHtCTfw9dP"
      }
    },
    {
      "cell_type": "code",
      "source": [
        "!g++ -std=c++17 ex02.cpp -o ex01\n",
        "!./ex01"
      ],
      "metadata": {
        "id": "bOVCzF1Hwt8G",
        "outputId": "11d3754e-4e33-47ed-dd92-1abaeee0d31b",
        "colab": {
          "base_uri": "https://localhost:8080/"
        }
      },
      "execution_count": 12,
      "outputs": [
        {
          "output_type": "stream",
          "name": "stdout",
          "text": [
            "  Number  Odd?  Even?\n",
            "      97     1      0\n",
            "      34     0      1\n"
          ]
        }
      ]
    },
    {
      "cell_type": "markdown",
      "metadata": {
        "id": "JYzkMxGTqTqA"
      },
      "source": [
        "## CODING CHALLENGE 2\n",
        "\n",
        "Another example function is one that takes two integers and returns the integer that is the minimum of the two. In the program below, write the proptotype and definition of this `minimum` function. In the `main()` function, use a `cout` statement that calls the `minimum` function to print which of the following two numbers is minimum: 46, or 38"
      ]
    },
    {
      "cell_type": "code",
      "execution_count": 13,
      "metadata": {
        "id": "pWMJDNwAqTqA",
        "outputId": "e3795ea7-9fb6-464c-a47e-a1d3bc56818e",
        "colab": {
          "base_uri": "https://localhost:8080/"
        }
      },
      "outputs": [
        {
          "output_type": "stream",
          "name": "stdout",
          "text": [
            "Writing ch02.cpp\n"
          ]
        }
      ],
      "source": [
        "%%writefile ch02.cpp\n",
        "\n",
        "#include <iostream>\n",
        "using namespace std;\n",
        "\n",
        "// Function prototype\n",
        "int minimum(int, int);\n",
        "\n",
        "// Function definition\n",
        "int minimum(int a, int b) {\n",
        "    if(a < b) {\n",
        "        return a;\n",
        "    } else {\n",
        "        return b;\n",
        "    }\n",
        "}\n",
        "\n",
        "int main(){\n",
        "    // Calling the minimum function and printing the result\n",
        "    cout << \"The minimum of 46 and 38 is: \" << minimum(46, 38) << endl;\n",
        "\n",
        "    return 0;\n",
        "}"
      ]
    },
    {
      "cell_type": "code",
      "execution_count": 14,
      "metadata": {
        "id": "Mb-opOuqqTqB",
        "colab": {
          "base_uri": "https://localhost:8080/"
        },
        "outputId": "9ed650fb-32c0-4f22-d29e-f0cf77444683"
      },
      "outputs": [
        {
          "output_type": "stream",
          "name": "stdout",
          "text": [
            "The minimum of 46 and 38 is: 38\n"
          ]
        }
      ],
      "source": [
        "!g++ -std=c++17 ch02.cpp -o ch02\n",
        "!./ch02"
      ]
    },
    {
      "cell_type": "markdown",
      "metadata": {
        "id": "aZ8qqJZzqTqB"
      },
      "source": [
        "## Yet another example\n",
        "Here is another example function for converting weights from pounds to kilograms, starting with the function prototype."
      ]
    },
    {
      "cell_type": "code",
      "source": [
        "%%writefile ex03.cpp\n",
        "\n",
        "#include <iostream>\n",
        "using namespace std;\n",
        "\n",
        "// TODO: Add prototoye here\n",
        "double lbs2kgs(double);\n",
        "\n",
        "// TODO: Add definition here\n",
        "double lbs2kgs(double pounds){\n",
        "  double kilograms =  0.453592 * pounds;\n",
        "  return kilograms;\n",
        "}\n",
        "\n",
        "int main(){\n",
        "  // TODO: Call function here\n",
        "  double lbs, kgs;\n",
        "\n",
        "  cout << \"Enter weight in pounds:\\n\"; cin >> lbs;\n",
        "  kgs = lbs2kgs(lbs);\n",
        "  cout << \"Weight in kilograms: \" << kgs << endl;\n",
        "\n",
        "  return 0;\n",
        "}"
      ],
      "metadata": {
        "id": "q8C-t6hoyzKY",
        "outputId": "524d34be-e6e4-469a-d9dd-c27a872884f5",
        "colab": {
          "base_uri": "https://localhost:8080/"
        }
      },
      "execution_count": 18,
      "outputs": [
        {
          "output_type": "stream",
          "name": "stdout",
          "text": [
            "Overwriting ex03.cpp\n"
          ]
        }
      ]
    },
    {
      "cell_type": "markdown",
      "metadata": {
        "id": "IGoltXd_qTqB"
      },
      "source": [
        "Notice that any variable defined inside a function is a **local variable**; it only exists within that function. For example, the variable `kilograms` is a local variable of the `lbs2kgs` function and so is the variable `pounds`. Both exist only inside the `lbs2kgs` function and cannot be used outside of it. In other words, their **scope** is local and limited to the function that defines them.\n",
        "\n",
        "Let's run this program:"
      ]
    },
    {
      "cell_type": "code",
      "execution_count": 19,
      "metadata": {
        "id": "dSiY4KonqTqB",
        "outputId": "03ec8989-5dd9-4cd1-bc45-ffcea3a858e2",
        "colab": {
          "base_uri": "https://localhost:8080/"
        }
      },
      "outputs": [
        {
          "output_type": "stream",
          "name": "stdout",
          "text": [
            "Enter weight in pounds:\n",
            "45\n",
            "Weight in kilograms: 20.4116\n"
          ]
        }
      ],
      "source": [
        "!g++ -std=c++17 ex03.cpp -o ex03\n",
        "!./ex03"
      ]
    },
    {
      "cell_type": "markdown",
      "metadata": {
        "id": "7p9N0eTJqTqC"
      },
      "source": [
        "## CODING CHALLENGE 3\n",
        "\n",
        "In the code cell below, write the prototype of a function named `kgs2lbs` that converts kilograms into pounds. In the next code cell after that, write the definition of this function. In the next code cell after that, write some c++ code that will test your `kgs2lbs` function just like we did in the example above."
      ]
    },
    {
      "cell_type": "code",
      "execution_count": 22,
      "metadata": {
        "id": "_ipdZEX8qTqC"
      },
      "outputs": [],
      "source": [
        "#include <iostream>\n",
        "using namespace std;\n",
        "\n",
        "// TODO: Add prototoye here\n",
        "\n",
        "// TODO: Add definition here\n",
        "\n",
        "int main(){\n",
        "  // TODO: Test function here\n",
        "\n",
        "  return 0;\n",
        "}"
      ]
    },
    {
      "cell_type": "code",
      "execution_count": null,
      "metadata": {
        "id": "LHJLggPyqTqC"
      },
      "outputs": [],
      "source": [
        "!g++ -std=c++17 ch03.cpp -o ch03\n",
        "!./ch03"
      ]
    },
    {
      "cell_type": "markdown",
      "metadata": {
        "id": "ag9cHGs_qTqC"
      },
      "source": [
        "## Passing arguments/parameters to functions\n",
        "In C++, arguments/parameters can be passed to a function in one of three ways:\n",
        "1. **By value** which creates copies of the passed data and passes those copies to the function. This protects the original arguments from being changed inside the function.\n",
        "2. **By reference** which uses references to pass the original arguments to the function. These original arguments can now be changed inside the function.\n",
        "3. **By pointer** which is similar to **by reference** in passing the original arguments to the function but uses pointers instead. We will cover this when we study **pointers**.\n",
        "\n",
        "The functions above used passing by value. Here is another example of passing by value, where a copy of the value of `n` is created and passed to the `incrementBy2` function."
      ]
    },
    {
      "cell_type": "code",
      "execution_count": null,
      "metadata": {
        "id": "vq8bL3L3qTqC",
        "outputId": "4edb1a74-3f7d-46a8-a2ea-43c82f2d97c8",
        "colab": {
          "base_uri": "https://localhost:8080/"
        }
      },
      "outputs": [
        {
          "output_type": "stream",
          "name": "stdout",
          "text": [
            "Overwriting ex04.cpp\n"
          ]
        }
      ],
      "source": [
        "%%writefile ex04.cpp\n",
        "\n",
        "#include <iostream>\n",
        "using namespace std;\n",
        "\n",
        "// TODO: Add prototoye here\n",
        "int incrementBy2(int);\n",
        "\n",
        "// TODO: Add definition here\n",
        "int incrementBy2(int n){\n",
        "  return ++(++n);\n",
        "}\n",
        "\n",
        "int main(){\n",
        "  // TODO: Test function here\n",
        "  int n = 15;\n",
        "\n",
        "  cout << \"n = \" << n << endl;\n",
        "  cout << \"n = \" << incrementBy2(n) << endl;\n",
        "  cout << \"n = \" << n << endl;\n",
        "\n",
        "  return 0;\n",
        "}"
      ]
    },
    {
      "cell_type": "markdown",
      "source": [
        "This function receives a copy of `n` which it increments twice but that does not affect the original `n`.\n"
      ],
      "metadata": {
        "id": "LtLnLSuC03w2"
      }
    },
    {
      "cell_type": "code",
      "execution_count": null,
      "metadata": {
        "id": "A2Z1KjfKqTqC",
        "outputId": "fdedeb41-9780-425c-ada6-e633444452de",
        "colab": {
          "base_uri": "https://localhost:8080/"
        }
      },
      "outputs": [
        {
          "output_type": "stream",
          "name": "stdout",
          "text": [
            "n = 15\n",
            "n = 17\n",
            "n = 15\n"
          ]
        }
      ],
      "source": [
        "!g++ -std=c++17 ex04.cpp -o ex04\n",
        "!./ex04"
      ]
    },
    {
      "cell_type": "markdown",
      "metadata": {
        "id": "rTkiYuSNqTqD"
      },
      "source": [
        "## References\n",
        "To avoid copying big values when calling a function, **references** should be used. A **reference** is just another name or an alias for a variable. We use the ampersand `&` operator to define references which takes the form:\n",
        "\n",
        "``` c++\n",
        "<datatype>& <alias> = <variable>;\n",
        "```\n",
        "\n",
        "For example, in:\n",
        "\n",
        "```cpp\n",
        "int x = 9;\n",
        "int& y = x;\n",
        "```\n",
        "\n",
        "`y` is a reference or another name for `x`.  That means `y` is pointing to the same location of memory as `x` and by changing `y`, `x` automatically changes. That is, the following:\n",
        "\n",
        "```cpp\n",
        "y = 17;\n",
        "cout << x;\n",
        "```\n",
        "\n",
        "prints:\n",
        "\n",
        "```txt\n",
        "17\n",
        "```"
      ]
    },
    {
      "cell_type": "markdown",
      "metadata": {
        "id": "rB9UfF8TqTqD"
      },
      "source": [
        "References are meant to be a safer and better alternative to pointers (which we will see later); they have the following properties which make them safe to use:\n",
        "* Once created, they cannot be changed; in other words, they cannot be made to reference other variables; and\n",
        "* They cannot be `null`.\n",
        "\n",
        "Because of these properties, they are commonly used for giving functions access to the original values of their parameters without copying them. This is called **passing arguments by reference**, which is faster and more efficient than **passing by value**.\n",
        "\n",
        "Here is an example of passing arguments **by reference**. Notice the use of ampersands `&` after the arguments' data types."
      ]
    },
    {
      "cell_type": "code",
      "execution_count": null,
      "metadata": {
        "id": "j73d2MNZqTqE",
        "outputId": "77021f91-9be5-47e0-b248-538bd43eb3bd",
        "colab": {
          "base_uri": "https://localhost:8080/"
        }
      },
      "outputs": [
        {
          "output_type": "stream",
          "name": "stdout",
          "text": [
            "Overwriting ex05.cpp\n"
          ]
        }
      ],
      "source": [
        "%%writefile ex05.cpp\n",
        "\n",
        "#include <iostream>\n",
        "using namespace std;\n",
        "\n",
        "// TODO: Add prototoye here\n",
        "void swapValues(int&, int&);\n",
        "\n",
        "// TODO: Add definition here\n",
        "void swapValues(int& n, int& m){\n",
        "  int o = n;\n",
        "  n = m;\n",
        "  m = o;\n",
        "}\n",
        "\n",
        "int main(){\n",
        "  // TODO: Test function here\n",
        "  int a = 10;\n",
        "  int b = 15;\n",
        "\n",
        "  cout << \"a = \" << a << \", b = \" << b << endl;\n",
        "  swapValues(a, b);\n",
        "  cout << \"a = \" << a << \", b = \" << b << endl;\n",
        "\n",
        "  return 0;\n",
        "}"
      ]
    },
    {
      "cell_type": "markdown",
      "metadata": {
        "id": "H6OFyM8GqTqE"
      },
      "source": [
        "Let's decompose the above function definition into its parts:\n",
        "\n",
        "* The type of the value returned by the function:\n",
        "\n",
        " `void`\n",
        "\n",
        "* The name of the function:\n",
        "\n",
        " `swapValues`\n",
        "\n",
        "* The list of the function's expected parameters placed between `(` and `)`:\n",
        "\n",
        " `(int& n, int& m)`\n",
        "\n",
        " This function expects two integer parameters passed to it by reference.\n",
        "\n",
        "* The body of the function placed between `{` and `}`:\n",
        "\n",
        " ```\n",
        "   {\n",
        "      int o = n;\n",
        "      n = m;\n",
        "      m = o;\n",
        "   }\n",
        " ```\n",
        "\n",
        " This function being a `void`-returning function does not need a return statement. The function will automatically return when it reaches the `}` at the and.\n",
        "\n",
        "Here the output of the above program:"
      ]
    },
    {
      "cell_type": "code",
      "execution_count": null,
      "metadata": {
        "id": "s-m4jyzLqTqE",
        "outputId": "02a467ef-4e27-42fe-cc0d-89139732763b",
        "colab": {
          "base_uri": "https://localhost:8080/"
        }
      },
      "outputs": [
        {
          "output_type": "stream",
          "name": "stdout",
          "text": [
            "a = 10, b = 15\n",
            "a = 15, b = 10\n"
          ]
        }
      ],
      "source": [
        "!g++ -std=c++17 ex05.cpp -o ex05\n",
        "!./ex05"
      ]
    },
    {
      "cell_type": "markdown",
      "metadata": {
        "id": "mASbVn_ZqTqE"
      },
      "source": [
        "## Overloaded functions\n",
        "C++ allows multiple functions to have the same name as long as their signatures are different or unique. In other words, functions can have the same name as long as they are different in either the kinds of arguments they take or the number of arguments they take. We call functions with the same name as others **overloaded functions**.\n",
        "\n",
        "Here are examples of overloaded functions where the only difference is in the kinds of their arguments.\n",
        "\n",
        "``` c++\n",
        "void swapValues(int&, int&);\n",
        "void swapValues(double&, double&);\n",
        "```\n",
        "\n",
        "And here are other overloaded functions taking a different number of arguments.\n",
        "\n",
        "``` c++\n",
        "int findMax(int, int);\n",
        "int findMax(int, int, int);\n",
        "```\n",
        "\n",
        "## CODING CHALLENGE 4\n",
        "\n",
        "In the program below, define the following overloaded function.\n",
        "``` c++\n",
        "void swapValues(long&, long&);\n",
        "void swapValues(double&, double&);\n",
        "```\n",
        "\n",
        "In the next cell after that, test your function."
      ]
    },
    {
      "cell_type": "code",
      "execution_count": null,
      "metadata": {
        "id": "WciF9hOkqTqE",
        "outputId": "468af0e6-c886-403e-c06d-2cecf5589597",
        "colab": {
          "base_uri": "https://localhost:8080/"
        }
      },
      "outputs": [
        {
          "output_type": "stream",
          "name": "stdout",
          "text": [
            "Overwriting ch04.cpp\n"
          ]
        }
      ],
      "source": [
        "%%writefile ch04.cpp\n",
        "\n",
        "#include <iostream>\n",
        "using namespace std;\n",
        "\n",
        "// TODO: Add prototoyes here\n",
        "\n",
        "// TODO: Add definitions here\n",
        "\n",
        "int main(){\n",
        "  // TODO: Test functions here\n",
        "\n",
        "  return 0;\n",
        "}"
      ]
    },
    {
      "cell_type": "code",
      "execution_count": null,
      "metadata": {
        "id": "ttmjxgU-qTqF"
      },
      "outputs": [],
      "source": [
        "!g++ -std=c++17 ch04.cpp -o ch04\n",
        "!./ch04"
      ]
    }
  ],
  "metadata": {
    "kernelspec": {
      "display_name": "Python 3",
      "name": "python3"
    },
    "language_info": {
      "name": "python"
    },
    "colab": {
      "provenance": [],
      "toc_visible": true
    }
  },
  "nbformat": 4,
  "nbformat_minor": 0
}